{
  "nbformat": 4,
  "nbformat_minor": 0,
  "metadata": {
    "colab": {
      "provenance": [],
      "authorship_tag": "ABX9TyOxgx5/7xYtYRaoH6jslQbz",
      "include_colab_link": true
    },
    "kernelspec": {
      "name": "python3",
      "display_name": "Python 3"
    },
    "language_info": {
      "name": "python"
    }
  },
  "cells": [
    {
      "cell_type": "markdown",
      "metadata": {
        "id": "view-in-github",
        "colab_type": "text"
      },
      "source": [
        "<a href=\"https://colab.research.google.com/github/Iman24474/TensorFlow_DeepDive/blob/main/Tensors_And_Variables.ipynb\" target=\"_parent\"><img src=\"https://colab.research.google.com/assets/colab-badge.svg\" alt=\"Open In Colab\"/></a>"
      ]
    },
    {
      "cell_type": "code",
      "execution_count": null,
      "metadata": {
        "id": "F5CZFRAjlInw"
      },
      "outputs": [],
      "source": [
        "import tensorflow as tf"
      ]
    },
    {
      "cell_type": "markdown",
      "source": [
        "A 0-dimensional tensor, or scalar, is a single numerical value without any dimensions."
      ],
      "metadata": {
        "id": "7YoLyXMZl3m7"
      }
    },
    {
      "cell_type": "code",
      "source": [
        "tensor_zero_d = tf.constant(4)\n",
        "print(tensor_zero_d)"
      ],
      "metadata": {
        "colab": {
          "base_uri": "https://localhost:8080/"
        },
        "id": "TCtjPGM3leXf",
        "outputId": "874ae364-7933-4bdc-e071-df14b4ef6ca2"
      },
      "execution_count": null,
      "outputs": [
        {
          "output_type": "stream",
          "name": "stdout",
          "text": [
            "tf.Tensor(4, shape=(), dtype=int32)\n"
          ]
        }
      ]
    },
    {
      "cell_type": "markdown",
      "source": [
        "A 1-dimensional tensor, or vector, is an array of numerical values arranged in a single line, representing a list of elements.\n",
        "\n",
        "![image.png](data:image/png;base64,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)"
      ],
      "metadata": {
        "id": "OcireffgmUVG"
      }
    },
    {
      "cell_type": "code",
      "source": [
        "tensor_one_d = tf.constant([1,2,3])\n",
        "print(tensor_one_d)"
      ],
      "metadata": {
        "colab": {
          "base_uri": "https://localhost:8080/"
        },
        "id": "xa7FcafOl6JR",
        "outputId": "311fb9fc-3c20-4377-fbcc-169b830ac473"
      },
      "execution_count": null,
      "outputs": [
        {
          "output_type": "stream",
          "name": "stdout",
          "text": [
            "tf.Tensor([1 2 3], shape=(3,), dtype=int32)\n"
          ]
        }
      ]
    },
    {
      "cell_type": "markdown",
      "source": [
        "A 2-dimensional tensor, or matrix, is an array of numerical values arranged in rows and columns, representing a grid of elements.\n",
        "![image.png](data:image/png;base64,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)"
      ],
      "metadata": {
        "id": "UWAcgXrypPBp"
      }
    },
    {
      "cell_type": "code",
      "source": [
        "tensor_two_d = tf.constant([\n",
        "    [1,2,0],\n",
        "    [3,5,-1],\n",
        "    [1,5,6],\n",
        "    [2,3,8]\n",
        "])\n",
        "print(tensor_two_d)"
      ],
      "metadata": {
        "colab": {
          "base_uri": "https://localhost:8080/"
        },
        "id": "6DfDrOYrpQxF",
        "outputId": "cc169636-0d54-45f9-ef7a-b3c840d1004a"
      },
      "execution_count": null,
      "outputs": [
        {
          "output_type": "stream",
          "name": "stdout",
          "text": [
            "tf.Tensor(\n",
            "[[ 1  2  0]\n",
            " [ 3  5 -1]\n",
            " [ 1  5  6]\n",
            " [ 2  3  8]], shape=(4, 3), dtype=int32)\n"
          ]
        }
      ]
    },
    {
      "cell_type": "markdown",
      "source": [
        "A 3-dimensional tensor is an array of numerical values arranged in multiple matrices, representing a cube of elements.\n",
        "\n",
        "![image.png](data:image/png;base64,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)\n"
      ],
      "metadata": {
        "id": "zxBQIXK9p6R3"
      }
    },
    {
      "cell_type": "code",
      "source": [
        "tensor_three_d = tf.constant([\n",
        "    [[1,2,0],\n",
        "     [3,5,-1]],\n",
        "\n",
        "    [[10,2,0],\n",
        "     [1,0,2]],\n",
        "\n",
        "    [[2,1,9],\n",
        "     [4,-3,32]]\n",
        "])\n",
        "print(tensor_three_d)"
      ],
      "metadata": {
        "colab": {
          "base_uri": "https://localhost:8080/"
        },
        "id": "eYSJIa4Fp7Wl",
        "outputId": "3956e5d2-d359-4001-9613-1cfb60dd430c"
      },
      "execution_count": null,
      "outputs": [
        {
          "output_type": "stream",
          "name": "stdout",
          "text": [
            "tf.Tensor(\n",
            "[[[ 1  2  0]\n",
            "  [ 3  5 -1]]\n",
            "\n",
            " [[10  2  0]\n",
            "  [ 1  0  2]]\n",
            "\n",
            " [[ 2  1  9]\n",
            "  [ 4 -3 32]]], shape=(3, 2, 3), dtype=int32)\n"
          ]
        }
      ]
    },
    {
      "cell_type": "markdown",
      "source": [
        "A 4-dimensional tensor is an array of numerical values arranged in multiple 3D tensors, representing a collection of cubes, often used to represent a batch of images or a sequence of 3D data.\n",
        "\n",
        "![image.png](data:image/png;base64,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)"
      ],
      "metadata": {
        "id": "yTaO1rCntEgD"
      }
    },
    {
      "cell_type": "code",
      "source": [
        "tensor_four_d = tf.constant([\n",
        "    [\n",
        "        [[1,2,3],\n",
        "         [4,5,6]],\n",
        "\n",
        "        [[7,8,9],\n",
        "         [10,11,12]],\n",
        "\n",
        "        [[13,14,15],\n",
        "         [16,17,18]]\n",
        "    ],\n",
        "\n",
        "    [\n",
        "        [[19,20,21],\n",
        "         [22,23,24]],\n",
        "\n",
        "        [[25,26,27],\n",
        "         [28,29,30]],\n",
        "\n",
        "        [[31,32,33],\n",
        "         [34,35,36]]\n",
        "    ]\n",
        "])\n",
        "\n",
        "print(tensor_four_d)"
      ],
      "metadata": {
        "colab": {
          "base_uri": "https://localhost:8080/"
        },
        "id": "v-krZQy9tRRX",
        "outputId": "8866b22d-8a36-4f7a-d96f-17573090497e"
      },
      "execution_count": null,
      "outputs": [
        {
          "output_type": "stream",
          "name": "stdout",
          "text": [
            "tf.Tensor(\n",
            "[[[[ 1  2  3]\n",
            "   [ 4  5  6]]\n",
            "\n",
            "  [[ 7  8  9]\n",
            "   [10 11 12]]\n",
            "\n",
            "  [[13 14 15]\n",
            "   [16 17 18]]]\n",
            "\n",
            "\n",
            " [[[19 20 21]\n",
            "   [22 23 24]]\n",
            "\n",
            "  [[25 26 27]\n",
            "   [28 29 30]]\n",
            "\n",
            "  [[31 32 33]\n",
            "   [34 35 36]]]], shape=(2, 3, 2, 3), dtype=int32)\n"
          ]
        }
      ]
    },
    {
      "cell_type": "markdown",
      "source": [
        "In TensorFlow, `tensor.shape` is used to get the shape of a tensor, returning a tuple that represents the dimensions of the tensor.\n"
      ],
      "metadata": {
        "id": "bvep64HIrA3n"
      }
    },
    {
      "cell_type": "code",
      "source": [
        "print(tensor_zero_d.shape) # 0d\n",
        "\n",
        "print(tensor_one_d.shape) # 1d\n",
        "\n",
        "print(tensor_two_d.shape) # 2d\n",
        "\n",
        "print(tensor_three_d.shape) # 3d\n",
        "\n",
        "print(tensor_four_d.shape) # 4d"
      ],
      "metadata": {
        "colab": {
          "base_uri": "https://localhost:8080/"
        },
        "id": "ON6REcwfrB7V",
        "outputId": "186d5c63-2247-4e70-d1e1-d4ab641da93c"
      },
      "execution_count": null,
      "outputs": [
        {
          "output_type": "stream",
          "name": "stdout",
          "text": [
            "()\n",
            "(3,)\n",
            "(4, 3)\n",
            "(3, 2, 3)\n",
            "(2, 3, 2, 3)\n"
          ]
        }
      ]
    },
    {
      "cell_type": "markdown",
      "source": [
        "In TensorFlow, `tensor.cast()` is used to change the data type of a tensor to a specified type, such as casting a tensor from `tf.float32` to `tf.int32`."
      ],
      "metadata": {
        "id": "nP6Oj3sVwQE3"
      }
    },
    {
      "cell_type": "code",
      "source": [
        "tensor_one_d = tf.constant([2.1, 3.2, 4, 3.3], dtype=tf.float32)\n",
        "print(tensor_one_d)\n",
        "\n",
        "casted_tensor_one_d = tf.cast(tensor_one_d, dtype=tf.int32)\n",
        "print(casted_tensor_one_d)"
      ],
      "metadata": {
        "colab": {
          "base_uri": "https://localhost:8080/"
        },
        "id": "rBMbxwmlwSlY",
        "outputId": "684f647d-0784-4c45-a31a-d9d1b8856a76"
      },
      "execution_count": null,
      "outputs": [
        {
          "output_type": "stream",
          "name": "stdout",
          "text": [
            "tf.Tensor([2.1 3.2 4.  3.3], shape=(4,), dtype=float32)\n",
            "tf.Tensor([2 3 4 3], shape=(4,), dtype=int32)\n"
          ]
        }
      ]
    },
    {
      "cell_type": "markdown",
      "source": [],
      "metadata": {
        "id": "bOmdZKfmw7vN"
      }
    }
  ]
}