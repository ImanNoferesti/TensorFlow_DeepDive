{
  "nbformat": 4,
  "nbformat_minor": 0,
  "metadata": {
    "colab": {
      "provenance": [],
      "authorship_tag": "ABX9TyNgsoy/8HZ0qC3vCqD3TJII",
      "include_colab_link": true
    },
    "kernelspec": {
      "name": "python3",
      "display_name": "Python 3"
    },
    "language_info": {
      "name": "python"
    }
  },
  "cells": [
    {
      "cell_type": "markdown",
      "metadata": {
        "id": "view-in-github",
        "colab_type": "text"
      },
      "source": [
        "<a href=\"https://colab.research.google.com/github/ImanNoferesti/TensorFlow_DeepDive/blob/main/Malaria_Diagnosis_Neural_Networks.ipynb\" target=\"_parent\"><img src=\"https://colab.research.google.com/assets/colab-badge.svg\" alt=\"Open In Colab\"/></a>"
      ]
    },
    {
      "cell_type": "code",
      "execution_count": 15,
      "metadata": {
        "id": "nWEnlKAp7ywW"
      },
      "outputs": [],
      "source": [
        "import tensorflow as tf\n",
        "import numpy as np\n",
        "import matplotlib.pyplot as plt\n",
        "import tensorflow_datasets as tfds"
      ]
    },
    {
      "cell_type": "markdown",
      "source": [
        "### Data Prepration"
      ],
      "metadata": {
        "id": "8bJSXt33_KVP"
      }
    },
    {
      "cell_type": "markdown",
      "source": [
        "The function `tfds.load()` is used to load datasets from TensorFlow Datasets (TFDS), a collection of ready-to-use datasets for machine learning.\n",
        "\n",
        "Parameters:\n",
        "\n",
        "* `name`: The name of the dataset (e.g., 'mnist', 'cifar10').\n",
        "\n",
        "* `split`: Specifies the data subset to load (e.g., 'train', 'test').\n",
        "\n",
        "* `as_supervised`: If set to `True`, it returns the dataset in the form `(input, label)` pairs.\n",
        "\n",
        "* `batch_size`: Allows you to load the dataset in batches."
      ],
      "metadata": {
        "id": "GdWDcOdF_NlS"
      }
    },
    {
      "cell_type": "code",
      "source": [
        "dataset, dataset_info = tfds.load('malaria', with_info=True, as_supervised=True, shuffle_files=True, split=['train'])"
      ],
      "metadata": {
        "id": "PzkdWHax_Mnk"
      },
      "execution_count": 16,
      "outputs": []
    },
    {
      "cell_type": "code",
      "source": [
        "dataset_info"
      ],
      "metadata": {
        "colab": {
          "base_uri": "https://localhost:8080/"
        },
        "id": "ynd6NhtqA19S",
        "outputId": "5e09a939-a5fb-4e48-864d-a8f50bd8627e"
      },
      "execution_count": 17,
      "outputs": [
        {
          "output_type": "execute_result",
          "data": {
            "text/plain": [
              "tfds.core.DatasetInfo(\n",
              "    name='malaria',\n",
              "    full_name='malaria/1.0.0',\n",
              "    description=\"\"\"\n",
              "    The Malaria dataset contains a total of 27,558 cell images with equal instances\n",
              "    of parasitized and uninfected cells from the thin blood smear slide images of\n",
              "    segmented cells.\n",
              "    \"\"\",\n",
              "    homepage='https://lhncbc.nlm.nih.gov/publication/pub9932',\n",
              "    data_dir='/root/tensorflow_datasets/malaria/1.0.0',\n",
              "    file_format=tfrecord,\n",
              "    download_size=337.08 MiB,\n",
              "    dataset_size=317.62 MiB,\n",
              "    features=FeaturesDict({\n",
              "        'image': Image(shape=(None, None, 3), dtype=uint8),\n",
              "        'label': ClassLabel(shape=(), dtype=int64, num_classes=2),\n",
              "    }),\n",
              "    supervised_keys=('image', 'label'),\n",
              "    disable_shuffling=False,\n",
              "    splits={\n",
              "        'train': <SplitInfo num_examples=27558, num_shards=4>,\n",
              "    },\n",
              "    citation=\"\"\"@article{rajaraman2018pre,\n",
              "      title={Pre-trained convolutional neural networks as feature extractors toward\n",
              "      improved malaria parasite detection in thin blood smear images},\n",
              "      author={Rajaraman, Sivaramakrishnan and Antani, Sameer K and Poostchi, Mahdieh\n",
              "      and Silamut, Kamolrat and Hossain, Md A and Maude, Richard J and Jaeger,\n",
              "      Stefan and Thoma, George R},\n",
              "      journal={PeerJ},\n",
              "      volume={6},\n",
              "      pages={e4568},\n",
              "      year={2018},\n",
              "      publisher={PeerJ Inc.}\n",
              "    }\"\"\",\n",
              ")"
            ]
          },
          "metadata": {},
          "execution_count": 17
        }
      ]
    },
    {
      "cell_type": "code",
      "source": [
        "dataset\n",
        "\n",
        "for data in dataset[0].take(3):\n",
        "  print(data)"
      ],
      "metadata": {
        "colab": {
          "base_uri": "https://localhost:8080/"
        },
        "id": "0Y4wOI5tA0nm",
        "outputId": "378781bf-09a3-44f3-c2e0-c7f2bf7b3af6"
      },
      "execution_count": 18,
      "outputs": [
        {
          "output_type": "stream",
          "name": "stdout",
          "text": [
            "(<tf.Tensor: shape=(145, 148, 3), dtype=uint8, numpy=\n",
            "array([[[0, 0, 0],\n",
            "        [0, 0, 0],\n",
            "        [0, 0, 0],\n",
            "        ...,\n",
            "        [0, 0, 0],\n",
            "        [0, 0, 0],\n",
            "        [0, 0, 0]],\n",
            "\n",
            "       [[0, 0, 0],\n",
            "        [0, 0, 0],\n",
            "        [0, 0, 0],\n",
            "        ...,\n",
            "        [0, 0, 0],\n",
            "        [0, 0, 0],\n",
            "        [0, 0, 0]],\n",
            "\n",
            "       [[0, 0, 0],\n",
            "        [0, 0, 0],\n",
            "        [0, 0, 0],\n",
            "        ...,\n",
            "        [0, 0, 0],\n",
            "        [0, 0, 0],\n",
            "        [0, 0, 0]],\n",
            "\n",
            "       ...,\n",
            "\n",
            "       [[0, 0, 0],\n",
            "        [0, 0, 0],\n",
            "        [0, 0, 0],\n",
            "        ...,\n",
            "        [0, 0, 0],\n",
            "        [0, 0, 0],\n",
            "        [0, 0, 0]],\n",
            "\n",
            "       [[0, 0, 0],\n",
            "        [0, 0, 0],\n",
            "        [0, 0, 0],\n",
            "        ...,\n",
            "        [0, 0, 0],\n",
            "        [0, 0, 0],\n",
            "        [0, 0, 0]],\n",
            "\n",
            "       [[0, 0, 0],\n",
            "        [0, 0, 0],\n",
            "        [0, 0, 0],\n",
            "        ...,\n",
            "        [0, 0, 0],\n",
            "        [0, 0, 0],\n",
            "        [0, 0, 0]]], dtype=uint8)>, <tf.Tensor: shape=(), dtype=int64, numpy=1>)\n",
            "(<tf.Tensor: shape=(103, 103, 3), dtype=uint8, numpy=\n",
            "array([[[0, 0, 0],\n",
            "        [0, 0, 0],\n",
            "        [0, 0, 0],\n",
            "        ...,\n",
            "        [0, 0, 0],\n",
            "        [0, 0, 0],\n",
            "        [0, 0, 0]],\n",
            "\n",
            "       [[0, 0, 0],\n",
            "        [0, 0, 0],\n",
            "        [0, 0, 0],\n",
            "        ...,\n",
            "        [0, 0, 0],\n",
            "        [0, 0, 0],\n",
            "        [0, 0, 0]],\n",
            "\n",
            "       [[0, 0, 0],\n",
            "        [0, 0, 0],\n",
            "        [0, 0, 0],\n",
            "        ...,\n",
            "        [0, 0, 0],\n",
            "        [0, 0, 0],\n",
            "        [0, 0, 0]],\n",
            "\n",
            "       ...,\n",
            "\n",
            "       [[0, 0, 0],\n",
            "        [0, 0, 0],\n",
            "        [0, 0, 0],\n",
            "        ...,\n",
            "        [0, 0, 0],\n",
            "        [0, 0, 0],\n",
            "        [0, 0, 0]],\n",
            "\n",
            "       [[0, 0, 0],\n",
            "        [0, 0, 0],\n",
            "        [0, 0, 0],\n",
            "        ...,\n",
            "        [0, 0, 0],\n",
            "        [0, 0, 0],\n",
            "        [0, 0, 0]],\n",
            "\n",
            "       [[0, 0, 0],\n",
            "        [0, 0, 0],\n",
            "        [0, 0, 0],\n",
            "        ...,\n",
            "        [0, 0, 0],\n",
            "        [0, 0, 0],\n",
            "        [0, 0, 0]]], dtype=uint8)>, <tf.Tensor: shape=(), dtype=int64, numpy=0>)\n",
            "(<tf.Tensor: shape=(133, 127, 3), dtype=uint8, numpy=\n",
            "array([[[0, 0, 0],\n",
            "        [0, 0, 0],\n",
            "        [0, 0, 0],\n",
            "        ...,\n",
            "        [0, 0, 0],\n",
            "        [0, 0, 0],\n",
            "        [0, 0, 0]],\n",
            "\n",
            "       [[0, 0, 0],\n",
            "        [0, 0, 0],\n",
            "        [0, 0, 0],\n",
            "        ...,\n",
            "        [0, 0, 0],\n",
            "        [0, 0, 0],\n",
            "        [0, 0, 0]],\n",
            "\n",
            "       [[0, 0, 0],\n",
            "        [0, 0, 0],\n",
            "        [0, 0, 0],\n",
            "        ...,\n",
            "        [0, 0, 0],\n",
            "        [0, 0, 0],\n",
            "        [0, 0, 0]],\n",
            "\n",
            "       ...,\n",
            "\n",
            "       [[0, 0, 0],\n",
            "        [0, 0, 0],\n",
            "        [0, 0, 0],\n",
            "        ...,\n",
            "        [0, 0, 0],\n",
            "        [0, 0, 0],\n",
            "        [0, 0, 0]],\n",
            "\n",
            "       [[0, 0, 0],\n",
            "        [0, 0, 0],\n",
            "        [0, 0, 0],\n",
            "        ...,\n",
            "        [0, 0, 0],\n",
            "        [0, 0, 0],\n",
            "        [0, 0, 0]],\n",
            "\n",
            "       [[0, 0, 0],\n",
            "        [0, 0, 0],\n",
            "        [0, 0, 0],\n",
            "        ...,\n",
            "        [0, 0, 0],\n",
            "        [0, 0, 0],\n",
            "        [0, 0, 0]]], dtype=uint8)>, <tf.Tensor: shape=(), dtype=int64, numpy=1>)\n"
          ]
        }
      ]
    },
    {
      "cell_type": "code",
      "source": [
        "# Create a dataset containing a range of numbers from 0 to 9\n",
        "dataset = tf.data.Dataset.range(10)\n",
        "# Skip the first 7 elements, resulting in a dataset starting from the 7th element (index 7)\n",
        "taken_after_skipping_dataset = dataset.skip(7)\n",
        "taken_dataset = dataset.take(3)\n",
        "# Convert the dataset to a list of numpy arrays and print it\n",
        "print(list(taken_after_skipping_dataset.as_numpy_iterator()))\n",
        "print(list(taken_dataset.as_numpy_iterator()))"
      ],
      "metadata": {
        "colab": {
          "base_uri": "https://localhost:8080/"
        },
        "id": "b_cJPG2YDKbl",
        "outputId": "c8fbc83a-b218-4c06-ac70-6b6ca119c782"
      },
      "execution_count": 19,
      "outputs": [
        {
          "output_type": "stream",
          "name": "stdout",
          "text": [
            "[7, 8, 9]\n",
            "[0, 1, 2]\n"
          ]
        }
      ]
    },
    {
      "cell_type": "code",
      "source": [
        "TRAIN_RATIO = 0.8\n",
        "VAL_RATIO = 0.1\n",
        "TEST_RATIO = 0.1"
      ],
      "metadata": {
        "id": "uERC15AgD0Yl"
      },
      "execution_count": 20,
      "outputs": []
    },
    {
      "cell_type": "code",
      "source": [
        "# Example for understanding how the split function should perform\n",
        "\n",
        "dataset = tf.data.Dataset.range(10)\n",
        "dataset_size = len(dataset)\n",
        "\n",
        "train_dataset = dataset.take(int(TRAIN_RATIO * dataset_size))\n",
        "print(list(train_dataset.as_numpy_iterator()))\n",
        "\n",
        "val_dataset = dataset.skip(int(TRAIN_RATIO * dataset_size)).take(int(VAL_RATIO * dataset_size))\n",
        "print(list(val_dataset.as_numpy_iterator()))\n",
        "\n",
        "test_dataset = dataset.skip(int((TRAIN_RATIO + VAL_RATIO) * dataset_size))\n",
        "print(list(test_dataset.as_numpy_iterator()))"
      ],
      "metadata": {
        "colab": {
          "base_uri": "https://localhost:8080/"
        },
        "id": "d4c9iXJkEt63",
        "outputId": "eecd8d78-a9fa-4bcb-b09b-ca3c6598c332"
      },
      "execution_count": 21,
      "outputs": [
        {
          "output_type": "stream",
          "name": "stdout",
          "text": [
            "[0, 1, 2, 3, 4, 5, 6, 7]\n",
            "[8]\n",
            "[9]\n"
          ]
        }
      ]
    },
    {
      "cell_type": "code",
      "source": [
        "def split(dataset, TRAIN_RATIO, VAL_RATIO, TEST_RATIO):\n",
        "\n",
        "  dataset_size = len(dataset)\n",
        "  train_dataset = dataset.take(int(TRAIN_RATIO * dataset_size))\n",
        "  val_dataset = dataset.skip(int(TRAIN_RATIO * dataset_size)).take(int(VAL_RATIO * dataset_size))\n",
        "  test_dataset = dataset.skip(int((TRAIN_RATIO + VAL_RATIO) * dataset_size))\n",
        "\n",
        "  return train_dataset, val_dataset, test_dataset\n"
      ],
      "metadata": {
        "id": "phbiwkW5JtOr"
      },
      "execution_count": 22,
      "outputs": []
    },
    {
      "cell_type": "code",
      "source": [
        "dataset, dataset_info = tfds.load('malaria', with_info=True, as_supervised=True, shuffle_files=True, split=['train'])\n",
        "\n",
        "train_dataset, val_dataset, test_dataset = split(dataset[0],TRAIN_RATIO, VAL_RATIO, TEST_RATIO)\n"
      ],
      "metadata": {
        "id": "0ZpAh0caKUjn"
      },
      "execution_count": 23,
      "outputs": []
    },
    {
      "cell_type": "markdown",
      "source": [
        "### Data Visualization"
      ],
      "metadata": {
        "id": "CT-Gx9hBMesT"
      }
    },
    {
      "cell_type": "markdown",
      "source": [
        "The `enumerate()` function in Python is a built-in function that adds a counter to an iterable and returns it as an `enumerate` object. This allows you to loop over an iterable (like a list, tuple, or dataset) and keep track of the index at the same time.\n",
        "\n",
        "How `enumerate()` Works:\n",
        "\n",
        "* `enumerate(iterable, start=0)` takes two parameters:\n",
        "  * `iterable`: The sequence (like a list or dataset) that you want to iterate over.\n",
        "  * `start`: The starting value for the counter (default is `0`).\n"
      ],
      "metadata": {
        "id": "8ajtjNYYN8zp"
      }
    },
    {
      "cell_type": "code",
      "source": [
        "# Iterate over the first 16 images and labels in the training dataset\n",
        "for i, (image, label) in enumerate(train_dataset.take(16)):\n",
        "  # Create a subplot with 4 rows and 4 columns\n",
        "  # The current subplot is determined by i+1 (1-based index)\n",
        "  ax = plt.subplot(4,4,i+1)\n",
        "  plt.imshow(image)\n",
        "  plt.title(dataset_info.features['label'].int2str(label))\n",
        "  plt.axis('off')\n",
        "\n",
        "# Adjust the spacing between subplots\n",
        "plt.subplots_adjust(wspace=0.5, hspace=0.5)"
      ],
      "metadata": {
        "colab": {
          "base_uri": "https://localhost:8080/",
          "height": 428
        },
        "id": "JEERD6rzLe-h",
        "outputId": "a2d4c376-f9eb-4702-f597-f04f0a6a5d41"
      },
      "execution_count": 24,
      "outputs": [
        {
          "output_type": "display_data",
          "data": {
            "text/plain": [
              "<Figure size 640x480 with 16 Axes>"
            ],
            "image/png": "[encoded data removed]"
          },
          "metadata": {}
        }
      ]
    },
    {
      "cell_type": "markdown",
      "source": [
        "### Data Preprocessing"
      ],
      "metadata": {
        "id": "uuXeJA13PWjF"
      }
    },
    {
      "cell_type": "markdown",
      "source": [
        "The `tf.image.resize()` function in TensorFlow is used to resize images to a specified size. This function is particularly useful in image preprocessing for machine learning models, where input images need to be of uniform dimensions.\n",
        "\n",
        "Parameters:\n",
        "\n",
        "* `images`: The input image or batch of images to be resized. It should be a 3D (single image) or 4D (batch of images) tensor.\n",
        "\n",
        "* `size`: A 1-D tensor or list specifying the new size `[new_height, new_width]`.\n",
        "\n",
        "* `method`: The interpolation method used for resizing. Options include `'bilinear'`, `'nearest'`, `'bicubic'`, and `'lanczos3'`, among others. The default is `'bilinear'`.\n",
        "\n",
        "* `preserve_aspect_ratio`: If `True`, the function preserves the original aspect ratio of the image while resizing.\n",
        "\n",
        "* `antialias`: If `True`, an anti-aliasing filter is applied when resizing. This can help reduce visual artifacts.\n",
        "\n",
        "* `name`: An optional name for the operation."
      ],
      "metadata": {
        "id": "t-nNe_CgRKeX"
      }
    },
    {
      "cell_type": "code",
      "source": [
        "# Normalization =>  x = (x - xmin) / (xmax - xmin) In our case xmin = 0 pixels and xmax = 255\n",
        "\n",
        "IM_SIZE = 224\n",
        "x_max = 255.0\n",
        "def resize_rescale(image, label):\n",
        "  return tf.image.resize(image, (IM_SIZE, IM_SIZE))/x_max, label"
      ],
      "metadata": {
        "id": "Dj97fJmMQ8zk"
      },
      "execution_count": 25,
      "outputs": []
    },
    {
      "cell_type": "markdown",
      "source": [
        "The `map()` function in TensorFlow's `tf.data.Dataset` API is used to apply a specified function to each element of the dataset. This is helpful for preprocessing data, such as resizing images, normalizing data, or augmenting images, before they are used for training or evaluation in a machine learning model.\n",
        "\n",
        "Use Cases for `map()`:\n",
        "\n",
        "* **Preprocessing images**: Resize, normalize, or augment images.\n",
        "* **Data transformation**: Apply data type conversions or feature scaling.\n",
        "* **Feature extraction**: Extract or compute additional features from the data."
      ],
      "metadata": {
        "id": "YZbel3QRSq4W"
      }
    },
    {
      "cell_type": "code",
      "source": [
        "train_dataset = train_dataset.map(resize_rescale)"
      ],
      "metadata": {
        "id": "5P6fzX12Pc4_"
      },
      "execution_count": 26,
      "outputs": []
    },
    {
      "cell_type": "code",
      "source": [
        "for image, label in train_dataset.take(1):\n",
        "  print(image, label)"
      ],
      "metadata": {
        "colab": {
          "base_uri": "https://localhost:8080/"
        },
        "id": "mQ14z6u1TOBS",
        "outputId": "27f2b075-30d1-4c91-d206-f83be46a8fa2"
      },
      "execution_count": 27,
      "outputs": [
        {
          "output_type": "stream",
          "name": "stdout",
          "text": [
            "tf.Tensor(\n",
            "[[[0. 0. 0.]\n",
            "  [0. 0. 0.]\n",
            "  [0. 0. 0.]\n",
            "  ...\n",
            "  [0. 0. 0.]\n",
            "  [0. 0. 0.]\n",
            "  [0. 0. 0.]]\n",
            "\n",
            " [[0. 0. 0.]\n",
            "  [0. 0. 0.]\n",
            "  [0. 0. 0.]\n",
            "  ...\n",
            "  [0. 0. 0.]\n",
            "  [0. 0. 0.]\n",
            "  [0. 0. 0.]]\n",
            "\n",
            " [[0. 0. 0.]\n",
            "  [0. 0. 0.]\n",
            "  [0. 0. 0.]\n",
            "  ...\n",
            "  [0. 0. 0.]\n",
            "  [0. 0. 0.]\n",
            "  [0. 0. 0.]]\n",
            "\n",
            " ...\n",
            "\n",
            " [[0. 0. 0.]\n",
            "  [0. 0. 0.]\n",
            "  [0. 0. 0.]\n",
            "  ...\n",
            "  [0. 0. 0.]\n",
            "  [0. 0. 0.]\n",
            "  [0. 0. 0.]]\n",
            "\n",
            " [[0. 0. 0.]\n",
            "  [0. 0. 0.]\n",
            "  [0. 0. 0.]\n",
            "  ...\n",
            "  [0. 0. 0.]\n",
            "  [0. 0. 0.]\n",
            "  [0. 0. 0.]]\n",
            "\n",
            " [[0. 0. 0.]\n",
            "  [0. 0. 0.]\n",
            "  [0. 0. 0.]\n",
            "  ...\n",
            "  [0. 0. 0.]\n",
            "  [0. 0. 0.]\n",
            "  [0. 0. 0.]]], shape=(224, 224, 3), dtype=float32) tf.Tensor(1, shape=(), dtype=int64)\n"
          ]
        }
      ]
    },
    {
      "cell_type": "code",
      "source": [
        "# Shuffle the dataset, batch it into groups of 32, and prefetch data for optimal pipeline performance\n",
        "train_dataset = train_dataset.shuffle(buffer_size=8, reshuffle_each_iteration=True).batch(32).prefetch(tf.data.AUTOTUNE)"
      ],
      "metadata": {
        "id": "QUNOXp4lUEQp"
      },
      "execution_count": 28,
      "outputs": []
    },
    {
      "cell_type": "markdown",
      "source": [
        "CNN Explainer: https://poloclub.github.io/cnn-explainer/\n",
        "\n",
        "CNN For Visual Recognition: https://cs231n.github.io/"
      ],
      "metadata": {
        "id": "lphSwLt5lgd9"
      }
    },
    {
      "cell_type": "markdown",
      "source": [
        "To calculate the output dimensions of a feature map after applying a convolutional operation in a convolutional neural network (CNN), considering filter size, stride, and padding, is:\n",
        "\n",
        "$$\n",
        "W_{out} = \\left\\lfloor \\frac{W_{in} - F + 2P}{S} \\right\\rfloor + 1\n",
        "$$\n",
        "\n",
        "$$\n",
        "H_{out} = \\left\\lfloor \\frac{H_{in} - F + 2P}{S} \\right\\rfloor + 1\n",
        "$$\n",
        "\n",
        "Definitions:\n",
        "\n",
        "* `Wout` and `Hout`: The width and height of the output feature map.\n",
        "\n",
        "* `Win` and `Hin`: The width and height of the input feature map.\n",
        "\n",
        "* `F`: The filter size (kernel size).\n",
        "\n",
        "* `P`: The amount of zero-padding applied to the input.\n",
        "\n",
        "* `S`: The stride, which is the step size that the filter moves across the input.\n",
        "\n",
        "* `⌊ ⌋`: The floor function, which rounds down to the nearest integer."
      ],
      "metadata": {
        "id": "0c3wiLuom4Dp"
      }
    },
    {
      "cell_type": "markdown",
      "source": [
        "Image Kernels: https://setosa.io/ev/image-kernels/\n"
      ],
      "metadata": {
        "id": "5U-Wtgfkttkw"
      }
    },
    {
      "cell_type": "markdown",
      "source": [
        "An **image kernel**, also known as a filter or convolution kernel, is a small matrix used in image processing and computer vision to perform various operations on images, such as blurring, sharpening, edge detection, and more. The kernel is applied to an image through a process called convolution, where the kernel matrix slides over the image, performing element-wise multiplications and summing the results to produce a new pixel value.\n",
        "\n",
        "Key Concepts:\n",
        "\n",
        "1. **Kernel Size**: The kernel is usually a square matrix (e.g., 3x3, 5x5) that defines the area of pixels considered in the operation. Common sizes include 3x3 and 5x5.\n",
        "\n",
        "2. **Convolution Process:**\n",
        "\n",
        "  * The kernel is placed over the image such that its center aligns with a specific pixel.\n",
        "\n",
        "  * Each value in the kernel is multiplied by the corresponding pixel value beneath it.\n",
        "\n",
        "  * The products are summed up to produce a single output pixel.\n",
        "\n",
        "  * The kernel then moves to the next pixel, and the process repeats.\n",
        "\n",
        "3. **Types of Kernels:**\n",
        "\n",
        "  * **Blurring Kernel**: Averages the surrounding pixel values, creating a smooth image. Example:\n",
        "  $$\n",
        "\\text{Gaussian Kernel} = \\begin{bmatrix}\n",
        "\\frac{1}{16} & \\frac{2}{16} & \\frac{1}{16} \\\\\n",
        "\\frac{2}{16} & \\frac{4}{16} & \\frac{2}{16} \\\\\n",
        "\\frac{1}{16} & \\frac{2}{16} & \\frac{1}{16}\n",
        "\\end{bmatrix}\n",
        "$$\n",
        "\n",
        "  * **Sharpening Kernel**: Enhances edges by amplifying differences between neighboring pixels. Example:\n",
        "\n",
        "  $$\n",
        "\\text{Laplacian Kernel} = \\begin{bmatrix}\n",
        "0 & -1 & 0 \\\\\n",
        "-1 & 4 & -1 \\\\\n",
        "0 & -1 & 0\n",
        "\\end{bmatrix}\n",
        "$$\n",
        "\n",
        "  * **Edge Detection Kernel**: Identifies edges in an image by highlighting areas of high contrast. Example:\n",
        "\n",
        "  $$\n",
        "\\text{Sobel Kernel} = \\begin{bmatrix}\n",
        "-1 & 0 & 1 \\\\\n",
        "-2 & 0 & 2 \\\\\n",
        "-1 & 0 & 1\n",
        "\\end{bmatrix}\n",
        "$$\n",
        "\n",
        "4. **Padding**: To ensure that the kernel can process the edges of an image without losing information, padding (usually zero-padding) may be added around the image.\n",
        "\n",
        "5. **Stride**: The stride defines how many pixels the kernel moves at a time. A stride of 1 means it moves one pixel at a time, while a stride of 2 skips every other pixel.\n",
        "\n"
      ],
      "metadata": {
        "id": "NCMUAw-DsE19"
      }
    },
    {
      "cell_type": "markdown",
      "source": [
        "**Max pooling** is a downsampling technique commonly used in convolutional neural networks (CNNs) to reduce the spatial dimensions (width and height) of feature maps while retaining the most important information. It operates by partitioning the input feature map into a set of non-overlapping rectangles and taking the maximum value from each rectangle. This process helps to summarize the features in the region and reduces the computational load for subsequent layers in the network.\n",
        "\n",
        "Key Concepts:\n",
        "\n",
        "1. **Operation**:\n",
        "  * The max pooling operation is typically defined by a **kernel size** (also called the pooling window) and a **stride** (the step size for moving the window).\n",
        "\n",
        "    *  For example, with a 2x2 max pooling operation and a stride of 2, the pooling layer will cover a 2x2 area of the input feature map, take the maximum value from that area, and move to the next non-overlapping 2x2 region.\n",
        "\n",
        "2. **Formulation**:\n",
        "  * Given an input feature map \\(X\\), the output feature map \\(Y\\) after applying max pooling can be defined as:\n",
        "\n",
        "   $$\n",
        "   Y_{i,j} = \\max(X_{a,b}) \\quad \\text{for } a, b \\text{ in the pooling window}\n",
        "   $$\n",
        "\n",
        "   where \\(i\\) and \\(j\\) are the indices of the output feature map, and \\(a\\) and \\(b\\) are the indices of the corresponding region in the input feature map.\n",
        "\n",
        "3. **Benefits**:\n",
        "  * **Dimensionality Reduction**: By reducing the size of the feature maps, max pooling decreases the number of parameters and computations in the network, which helps to prevent overfitting.\n",
        "\n",
        "  * **Translation Invariance**: Max pooling helps the network to become less sensitive to small translations in the input, as the most prominent features (the maximum values) are preserved.\n",
        "\n",
        "4. **Pooling Size and Stride**:\n",
        "  * Common choices for the pooling size are 2x2 or 3x3, with a stride often equal to the pooling size to ensure non-overlapping regions.\n",
        "\n",
        "  * If a stride is smaller than the pooling size, it results in overlapping pooling regions.\n",
        "\n",
        "\n",
        "Example:\n",
        "\n",
        "Given the following 4x4 input feature map:\n",
        "\n",
        "$$\n",
        "   X = \\begin{bmatrix}\n",
        "   1 & 3 & 2 & 4 \\\\\n",
        "   5 & 6 & 2 & 1 \\\\\n",
        "   3 & 2 & 1 & 0 \\\\\n",
        "   4 & 5 & 6 & 7\n",
        "   \\end{bmatrix}\n",
        "   $$\n",
        "\n",
        "   If we apply 2x2 max pooling with a stride of 2, the output will be:\n",
        "\n",
        "   $$\n",
        "   Y = \\begin{bmatrix}\n",
        "   6 & 4 \\\\\n",
        "   5 & 7\n",
        "   \\end{bmatrix}\n",
        "   $$\n",
        "   \n",
        "   Here, the maximum values from each 2x2 region are taken."
      ],
      "metadata": {
        "id": "LEym6ArftpC_"
      }
    },
    {
      "cell_type": "code",
      "source": [],
      "metadata": {
        "id": "46y088kTyZlO"
      },
      "execution_count": null,
      "outputs": []
    }
  ]
}