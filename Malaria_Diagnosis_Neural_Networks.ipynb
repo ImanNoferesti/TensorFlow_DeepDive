{
  "nbformat": 4,
  "nbformat_minor": 0,
  "metadata": {
    "colab": {
      "provenance": [],
      "gpuType": "T4",
      "authorship_tag": "ABX9TyN/aEpDgAMo+tFPBj6e4912",
      "include_colab_link": true
    },
    "kernelspec": {
      "name": "python3",
      "display_name": "Python 3"
    },
    "language_info": {
      "name": "python"
    },
    "accelerator": "GPU"
  },
  "cells": [
    {
      "cell_type": "markdown",
      "metadata": {
        "id": "view-in-github",
        "colab_type": "text"
      },
      "source": [
        "<a href=\"https://colab.research.google.com/github/ImanNoferesti/TensorFlow_DeepDive/blob/main/Malaria_Diagnosis_Neural_Networks.ipynb\" target=\"_parent\"><img src=\"https://colab.research.google.com/assets/colab-badge.svg\" alt=\"Open In Colab\"/></a>"
      ]
    },
    {
      "cell_type": "code",
      "execution_count": 1,
      "metadata": {
        "id": "nWEnlKAp7ywW"
      },
      "outputs": [],
      "source": [
        "import tensorflow as tf\n",
        "import numpy as np\n",
        "import matplotlib.pyplot as plt\n",
        "import tensorflow_datasets as tfds"
      ]
    },
    {
      "cell_type": "markdown",
      "source": [
        "### Data Prepration"
      ],
      "metadata": {
        "id": "8bJSXt33_KVP"
      }
    },
    {
      "cell_type": "markdown",
      "source": [
        "The function `tfds.load()` is used to load datasets from TensorFlow Datasets (TFDS), a collection of ready-to-use datasets for machine learning.\n",
        "\n",
        "Parameters:\n",
        "\n",
        "* `name`: The name of the dataset (e.g., 'mnist', 'cifar10').\n",
        "\n",
        "* `split`: Specifies the data subset to load (e.g., 'train', 'test').\n",
        "\n",
        "* `as_supervised`: If set to `True`, it returns the dataset in the form `(input, label)` pairs.\n",
        "\n",
        "* `batch_size`: Allows you to load the dataset in batches."
      ],
      "metadata": {
        "id": "GdWDcOdF_NlS"
      }
    },
    {
      "cell_type": "code",
      "source": [],
      "metadata": {
        "id": "PzkdWHax_Mnk"
      },
      "execution_count": null,
      "outputs": []
    }
  ]
}